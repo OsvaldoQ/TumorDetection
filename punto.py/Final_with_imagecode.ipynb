{
  "nbformat": 4,
  "nbformat_minor": 0,
  "metadata": {
    "colab": {
      "name": "Final_with_imagecode.ipynb",
      "provenance": [],
      "collapsed_sections": []
    },
    "kernelspec": {
      "name": "python3",
      "display_name": "Python 3"
    },
    "language_info": {
      "name": "python"
    },
    "accelerator": "GPU"
  },
  "cells": [
    {
      "cell_type": "code",
      "metadata": {
        "id": "8a5kzQGgUn5B"
      },
      "source": [
        "#we gonna upload a drive carpet to colav content\n",
        "from google.colab import drive\n",
        "drive.mount('/content/drive')"
      ],
      "execution_count": null,
      "outputs": []
    },
    {
      "cell_type": "code",
      "metadata": {
        "id": "5WH40mpZOKq0"
      },
      "source": [
        "from PIL import Image\n",
        "import torch\n",
        "from torchvision import transforms"
      ],
      "execution_count": null,
      "outputs": []
    },
    {
      "cell_type": "code",
      "metadata": {
        "id": "0ZAvXQ6_PpnP"
      },
      "source": [
        "#we need to trasnform the input image with same parameters of images for train\n",
        "transform = transforms.Compose([\n",
        "            transforms.Resize(256),\n",
        "            transforms.CenterCrop(224),\n",
        "            transforms.ToTensor(),\n",
        "            transforms.Normalize([0.485, 0.456, 0.406], [0.229, 0.224, 0.225]),\n",
        "        ])"
      ],
      "execution_count": null,
      "outputs": []
    },
    {
      "cell_type": "code",
      "metadata": {
        "id": "aUKMMrVUPzdO"
      },
      "source": [
        "#is important allocate de path used in the session, if you upload manually please\n",
        "#copy and put the path\n",
        "img1 = Image.open('/content/drive/MyDrive/punto.py/6no.jpg')\n",
        "img1 = transform(img1)\n",
        "img1 = img1.unsqueeze(0)\n",
        "img1.shape"
      ],
      "execution_count": null,
      "outputs": []
    },
    {
      "cell_type": "code",
      "metadata": {
        "id": "44T9Gpz9OOGf"
      },
      "source": [
        "#we will check if gpu is available in order to upload the model and work in GPU\n",
        "# check if GPU is available\n",
        "device = torch.device(\"cuda:0\" if torch.cuda.is_available() else \"CPU\")\n",
        "print(device)"
      ],
      "execution_count": null,
      "outputs": []
    },
    {
      "cell_type": "code",
      "metadata": {
        "id": "n1KlgPGXPKJP"
      },
      "source": [
        "model_nuevo = torch.load('/content/drive/MyDrive/punto.py/my_model.pt')\n",
        "print(model_nuevo)"
      ],
      "execution_count": null,
      "outputs": []
    },
    {
      "cell_type": "code",
      "metadata": {
        "id": "yvzJbJsTV0U1"
      },
      "source": [
        "imagen = img1.to(device)\n",
        "imagen_outputs = model_nuevo(imagen)\n",
        "_, preds = torch.max(imagen_outputs.data, 1)\n",
        "print(preds)"
      ],
      "execution_count": null,
      "outputs": []
    },
    {
      "cell_type": "code",
      "metadata": {
        "id": "i2lnRJ2rWFOV"
      },
      "source": [
        "if preds[0] == 0:\n",
        "  print(\"NO\")\n",
        "else:\n",
        "  print(\"SI\")"
      ],
      "execution_count": null,
      "outputs": []
    },
    {
      "cell_type": "code",
      "metadata": {
        "id": "xa2g3sscWSDG"
      },
      "source": [
        ""
      ],
      "execution_count": null,
      "outputs": []
    }
  ]
}