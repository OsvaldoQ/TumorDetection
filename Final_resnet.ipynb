{
  "nbformat": 4,
  "nbformat_minor": 0,
  "metadata": {
    "colab": {
      "name": "Final_resnet.ipynb",
      "private_outputs": true,
      "provenance": [],
      "collapsed_sections": []
    },
    "kernelspec": {
      "name": "python3",
      "display_name": "Python 3"
    },
    "language_info": {
      "name": "python"
    },
    "accelerator": "GPU"
  },
  "cells": [
    {
      "cell_type": "code",
      "metadata": {
        "id": "I8t3NeTR8qVn"
      },
      "source": [
        "\n",
        "#The used data set in this exercise is from kaggle, please follow the instructions\n",
        "#https://www.youtube.com/watch?v=57N1g8k2Hwc\n",
        "#Installing Kagle to have the data set\n",
        "!pip install -q kaggle"
      ],
      "execution_count": null,
      "outputs": []
    },
    {
      "cell_type": "code",
      "metadata": {
        "id": "JbAYvNXx8uPc"
      },
      "source": [
        "#upload .json file\n",
        "from google.colab import files\n",
        "files.upload()"
      ],
      "execution_count": null,
      "outputs": []
    },
    {
      "cell_type": "code",
      "metadata": {
        "id": "XcmxEv9u8192"
      },
      "source": [
        "#Create a kaggle folder\n",
        "!mkdir ~/.kaggle\n",
        "#Copy json file to folder\n",
        "!cp kaggle.json ~/.kaggle/\n",
        "!chmod 600 ~/.kaggle/kaggle.json "
      ],
      "execution_count": null,
      "outputs": []
    },
    {
      "cell_type": "code",
      "metadata": {
        "id": "IdtIKs7O866M"
      },
      "source": [
        "#Download dataset from kaggle  \n",
        "!kaggle datasets download -d navoneel/brain-mri-images-for-brain-tumor-detection"
      ],
      "execution_count": null,
      "outputs": []
    },
    {
      "cell_type": "code",
      "metadata": {
        "id": "Bo5scLBx9AKM"
      },
      "source": [
        "#Unzip dataset downloaded from kaggle\n",
        "!unzip brain-mri-images-for-brain-tumor-detection.zip"
      ],
      "execution_count": null,
      "outputs": []
    },
    {
      "cell_type": "markdown",
      "metadata": {
        "id": "ngju7iG39MrJ"
      },
      "source": [
        "## The dataset downloaded only have two subsections with classes yes, no. We need create train,test and validation carpets to proceed with training and testing"
      ]
    },
    {
      "cell_type": "code",
      "metadata": {
        "id": "ScqqpxeT-6eG"
      },
      "source": [
        "#This resource make possible split the dataset into a train,test and validation\n",
        "!pip install split_folders\n",
        "import splitfolders"
      ],
      "execution_count": null,
      "outputs": []
    },
    {
      "cell_type": "code",
      "metadata": {
        "id": "ASTRkP45rbnn"
      },
      "source": [
        "#code which create train,test,validation carpets into a new carpet called output\n",
        "splitfolders.ratio(\"brain_tumor_dataset\", output=\"output\", seed=1337, ratio=(.8, .1, .1))"
      ],
      "execution_count": null,
      "outputs": []
    },
    {
      "cell_type": "code",
      "metadata": {
        "id": "oHK31vqY2qDp"
      },
      "source": [
        "\n",
        "data_dir = \"/content/output\"\n",
        "TEST = 'test'\n",
        "TRAIN = 'train'\n",
        "VAL ='val'"
      ],
      "execution_count": null,
      "outputs": []
    },
    {
      "cell_type": "code",
      "metadata": {
        "id": "N9bQVxyYg_uV"
      },
      "source": [
        "%matplotlib inline\n",
        "\n",
        "import numpy as np\n",
        "import matplotlib.pyplot as plt\n",
        "import os\n",
        "import copy\n",
        "\n",
        "import torch\n",
        "import torch.nn as nn\n",
        "import torchvision\n",
        "\n",
        "# data loading and transforming\n",
        "from torch.utils.data import DataLoader\n",
        "from torchvision import transforms, models, datasets\n",
        "\n",
        "# evaluation metrics visualisation\n",
        "import seaborn as sns\n",
        "\n",
        "# define a transform to read the data in as a tensor. A good practice when creating\n",
        "# the data transforms is to use a flag to apply different preprocessing according\n",
        "# to what is needed. You might also include other preprocessing functions.  \n",
        "def transform_data(phase):\n",
        "    if phase == TRAIN:\n",
        "        transform = transforms.Compose([\n",
        "            transforms.Resize(256),\n",
        "            transforms.CenterCrop(224),\n",
        "            transforms.ToTensor(),\n",
        "            transforms.Normalize([0.485, 0.456, 0.406], [0.229, 0.224, 0.225]),\n",
        "        ])\n",
        "        \n",
        "    if phase == VAL:\n",
        "        transform = transforms.Compose([\n",
        "            transforms.Resize(256),\n",
        "            transforms.CenterCrop(224),\n",
        "            transforms.ToTensor(),\n",
        "            transforms.Normalize([0.485, 0.456, 0.406], [0.229, 0.224, 0.225]),\n",
        "        ])\n",
        "    \n",
        "    if phase == TEST:\n",
        "        transform = transforms.Compose([\n",
        "            transforms.Resize(256),\n",
        "            transforms.CenterCrop(224),\n",
        "            transforms.ToTensor(),\n",
        "            transforms.Normalize([0.485, 0.456, 0.406], [0.229, 0.224, 0.225]),\n",
        "        ])        \n",
        "        \n",
        "    return transform\n",
        "\n"
      ],
      "execution_count": null,
      "outputs": []
    },
    {
      "cell_type": "code",
      "metadata": {
        "id": "6ibyrlFkhAwV"
      },
      "source": [
        "\n",
        "\n",
        "\n",
        "# add the transforms for training, validation and testing to a dict so they can be easily called\n",
        "data_transforms = {x: datasets.ImageFolder(os.path.join(data_dir, x), transform_data(x)) \n",
        "                  for x in [TRAIN, VAL, TEST]}\n",
        "\n",
        "# prepare data loaders, set the batch_size\n",
        "# consider changing the batch size because it can have effects in the accuracy of your architecture\n",
        "dataloaders = {TRAIN: torch.utils.data.DataLoader(data_transforms[TRAIN], batch_size = 4, shuffle=True), \n",
        "               VAL: torch.utils.data.DataLoader(data_transforms[VAL], batch_size = 1, shuffle=True), \n",
        "               TEST: torch.utils.data.DataLoader(data_transforms[TEST], batch_size = 1, shuffle=True)}\n",
        "\n",
        "# create a dict with the subsets' sizes\n",
        "dataset_sizes = {x: len(data_transforms[x]) for x in [TRAIN, VAL]}\n",
        "#print dataset size, and classes of train and validation\n",
        "print(\"Dataset sizes: \", dataset_sizes)\n",
        "classes = data_transforms[TRAIN].classes\n",
        "print(\"Dataset classes in TRAIN: \", classes)\n",
        "classes = data_transforms[VAL].classes\n",
        "print(\"Dataset classes in VAL: \", classes)"
      ],
      "execution_count": null,
      "outputs": []
    },
    {
      "cell_type": "code",
      "metadata": {
        "id": "fDyPDhIQ14i1"
      },
      "source": [
        "#cell used to visualize and example batch\n",
        "\n",
        "\n",
        "import numpy as np\n",
        "import matplotlib.pyplot as plt\n",
        "\n",
        "%matplotlib inline\n",
        "    \n",
        "def imshow(inp, title=None):\n",
        "    inp = inp.numpy().transpose((1, 2, 0))\n",
        "    mean = np.array([0.485, 0.456, 0.406])\n",
        "    std = np.array([0.229, 0.224, 0.225])\n",
        "    inp = std * inp + mean\n",
        "    inp = np.clip(inp, 0, 1)\n",
        "    plt.imshow(inp)\n",
        "    if title is not None:\n",
        "        plt.title(title)\n",
        "    plt.pause(0.001)  \n",
        "\n",
        "\n",
        "# obtain one batch of training images\n",
        "inputs, classes = next(iter(dataloaders[TRAIN]))\n",
        "out = torchvision.utils.make_grid(inputs)\n",
        "# plot the images in the batch, along with the corresponding labels\n",
        "imshow(out, title=[classes[x] for x in classes])"
      ],
      "execution_count": null,
      "outputs": []
    },
    {
      "cell_type": "code",
      "metadata": {
        "id": "6nsmthat3Su6"
      },
      "source": [
        "#we will check if gpu is available in order to upload the model and work in GPU\n",
        "# check if GPU is available\n",
        "device = torch.device(\"cuda:0\" if torch.cuda.is_available() else \"CPU\")\n",
        "print(device)"
      ],
      "execution_count": null,
      "outputs": []
    },
    {
      "cell_type": "code",
      "metadata": {
        "id": "-eZJw5mKRaWb"
      },
      "source": [
        "# Load the pretrained model VGG-16\n",
        "pretrained_model = models.resnet18(pretrained=True)\n",
        "print(pretrained_model)"
      ],
      "execution_count": null,
      "outputs": []
    },
    {
      "cell_type": "code",
      "metadata": {
        "id": "x4FFO8w93Jq0"
      },
      "source": [
        "import torch.optim as optim\n",
        "from torch.optim import lr_scheduler\n",
        "# freeze all the layers to implement transfer learning\n",
        "num_ftrs = pretrained_model.fc.in_features\n",
        "# Here the size of each output sample is set to 2.\n",
        "# Alternatively, it can be generalized to nn.Linear(num_ftrs, len(class_names)).\n",
        "pretrained_model.fc = nn.Linear(num_ftrs, 2)\n",
        "\n",
        "pretrained_model = pretrained_model.to(device)\n",
        "\n",
        "criterion = nn.CrossEntropyLoss()\n",
        "\n",
        "# Observe that all parameters are being optimized\n",
        "optimizer = optim.SGD(pretrained_model.parameters(), lr=0.001, momentum=0.9)\n",
        "\n",
        "# decay LR by a factor of 0.1 every 5 epochs\n",
        "exp_lr_scheduler = optim.lr_scheduler.StepLR(optimizer, step_size=5, gamma=0.1)\n"
      ],
      "execution_count": null,
      "outputs": []
    },
    {
      "cell_type": "code",
      "metadata": {
        "id": "BPPwY0KU4GBS"
      },
      "source": [
        "# train model\n",
        "\n",
        "def train_model(model, criterion, optimizer, scheduler, num_epochs):\n",
        "    best_model_weights = copy.deepcopy(model.state_dict())\n",
        "    best_acc = 0.0\n",
        "    \n",
        "    # iterate through the epochs\n",
        "    for epoch in range(num_epochs):\n",
        "        print(\"Epoch: {}/{}\".format(epoch+1, num_epochs))\n",
        "        print(\"=\"*10)\n",
        "        \n",
        "        # train and validate for every epoch\n",
        "        for phase in [TRAIN, VAL]:\n",
        "\n",
        "            # change the mode of the pretrained model according to the stage\n",
        "            if phase == TRAIN:\n",
        "                scheduler.step()\n",
        "                model.train()\n",
        "            else:\n",
        "                model.eval()\n",
        "\n",
        "            running_loss = 0.0\n",
        "            running_corrects = 0\n",
        "\n",
        "            # iterate through the batches\n",
        "            for data in dataloaders[phase]:\n",
        "                images, labels = data\n",
        "                \n",
        "                # transfer the images and labels to GPU \n",
        "                images = images.to(device)\n",
        "                labels = labels.to(device)\n",
        "\n",
        "                # restart the gradients\n",
        "                optimizer.zero_grad()\n",
        "\n",
        "                # enable gradients for training\n",
        "                with torch.set_grad_enabled(phase==TRAIN):\n",
        "                    # predict the labels\n",
        "                    predicted = model(images)\n",
        "                    _, preds = torch.max(predicted, 1)\n",
        "                    loss = criterion(predicted, labels)\n",
        "\n",
        "                    # backward propagation if training\n",
        "                    if phase == 'train':\n",
        "                        loss.backward()\n",
        "                        optimizer.step()\n",
        "\n",
        "                # add up the losses\n",
        "                running_loss += loss.item() * images.size(0)\n",
        "\n",
        "                # add up the correct predictions\n",
        "                running_corrects += torch.sum(preds == labels.data)\n",
        "\n",
        "            # calculate the epoch loss and accuracy\n",
        "            epoch_loss = running_loss / dataset_sizes[phase]\n",
        "            epoch_acc = running_corrects.double() / dataset_sizes[phase]\n",
        "\n",
        "            print('{} Loss: {:.4f} Acc: {:.4f}'.format(\n",
        "                phase, epoch_loss, epoch_acc))\n",
        "\n",
        "            # if the phase is validation and the accuracy is the best found ever, \n",
        "            # backup the weights \n",
        "            if phase == 'val' and epoch_acc > best_acc:\n",
        "                best_acc = epoch_acc\n",
        "                best_model_weights = copy.deepcopy(model.state_dict())\n",
        "\n",
        "    print('Best val Acc: {:4f}'.format(best_acc))\n",
        "    \n",
        "    # load the best weights found when validating the model\n",
        "    model.load_state_dict(best_model_weights)\n",
        "    return model\n",
        "\n",
        "# define the number of epochs to train for\n",
        "n_epochs = 20\n",
        "\n",
        "# call train\n",
        "pretrained_model = train_model(pretrained_model, criterion, optimizer, exp_lr_scheduler, num_epochs=n_epochs)\n"
      ],
      "execution_count": null,
      "outputs": []
    },
    {
      "cell_type": "code",
      "metadata": {
        "id": "xKtDY1kZ4bTh"
      },
      "source": [
        "#evaluate model, is needed check metrics of the model, in the present job,\n",
        "#according metrics results, will be chosen a pre-trained model \n",
        "def test_model():\n",
        "\n",
        "    running_correct = 0.0\n",
        "    running_total = 0.0\n",
        "\n",
        "    true_labels = []\n",
        "    pred_labels = []\n",
        "    \n",
        "    # disable gradients.\n",
        "    with torch.no_grad():\n",
        "\n",
        "        # iterate in the test subset\n",
        "        for data in dataloaders[TEST]:\n",
        "            images, labels = data\n",
        "            \n",
        "            # transfer tensors to GPU\n",
        "            images = images.to(device)\n",
        "            labels = labels.to(device)\n",
        "\n",
        "            true_labels.append(labels.item())\n",
        "\n",
        "            # get predicted labels with the retrained model\n",
        "            outputs = pretrained_model(images)\n",
        "\n",
        "            _, preds = torch.max(outputs.data, 1)\n",
        "\n",
        "            pred_labels.append(preds.item())\n",
        "\n",
        "            # calculate the accuracy\n",
        "            running_total += labels.size(0)\n",
        "            running_correct += (preds == labels).sum().item()\n",
        "\n",
        "        accuracy = running_correct/running_total\n",
        "\n",
        "    return (true_labels, pred_labels, running_correct, running_total, accuracy)\n",
        "\n",
        "true_labels, pred_labels, running_correct, running_total, accuracy = test_model()"
      ],
      "execution_count": null,
      "outputs": []
    },
    {
      "cell_type": "code",
      "metadata": {
        "id": "hWqTVV9C4dAZ"
      },
      "source": [
        "#display the accuracy obtained from model  \n",
        "print(\"Total Correct Images: {}, Total Test Images: {}\".format(int(running_correct), int(running_total)))\n",
        "print(\"Test Accuracy: \", accuracy)"
      ],
      "execution_count": null,
      "outputs": []
    }
  ]
}
